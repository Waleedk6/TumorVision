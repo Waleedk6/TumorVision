{
 "cells": [
  {
   "cell_type": "code",
   "execution_count": null,
   "metadata": {
    "id": "Uw8ulhDVlp9w"
   },
   "outputs": [],
   "source": [
    "import numpy as np\n",
    "from tensorflow.keras.preprocessing import image\n",
    "from tensorflow.keras.models import load_model\n",
    "import matplotlib.pyplot as plt\n",
    "import os"
   ]
  },
  {
   "cell_type": "code",
   "execution_count": null,
   "metadata": {
    "colab": {
     "base_uri": "https://localhost:8080/"
    },
    "executionInfo": {
     "elapsed": 132471,
     "status": "ok",
     "timestamp": 1749975967013,
     "user": {
      "displayName": "Sibt e Hassan",
      "userId": "02293422097421632325"
     },
     "user_tz": -300
    },
    "id": "XrMFsP_isA6p",
    "outputId": "43a45556-f39a-49ec-b46b-591d93999956"
   },
   "outputs": [
    {
     "name": "stderr",
     "output_type": "stream",
     "text": [
      "YOLOv5 🚀 v7.0-421-g79c4c31d Python-3.11.13 torch-2.6.0+cu124 CUDA:0 (Tesla T4, 15095MiB)\n"
     ]
    },
    {
     "name": "stdout",
     "output_type": "stream",
     "text": [
      "Setup complete ✅ (2 CPUs, 12.7 GB RAM, 42.4/112.6 GB disk)\n"
     ]
    }
   ],
   "source": [
    "!git clone https://github.com/ultralytics/yolov5  # clone\n",
    "%cd yolov5\n",
    "%pip install -qr requirements.txt comet_ml  # install\n",
    "\n",
    "import torch\n",
    "import utils\n",
    "display = utils.notebook_init()  # checks"
   ]
  },
  {
   "cell_type": "markdown",
   "metadata": {},
   "source": [
    "# === MRI DETECTION STAGE ==="
   ]
  },
  {
   "cell_type": "code",
   "execution_count": null,
   "metadata": {
    "colab": {
     "base_uri": "https://localhost:8080/"
    },
    "executionInfo": {
     "elapsed": 29204,
     "status": "ok",
     "timestamp": 1749977832394,
     "user": {
      "displayName": "Sibt e Hassan",
      "userId": "02293422097421632325"
     },
     "user_tz": -300
    },
    "id": "paplAz1yqH_x",
    "outputId": "1ed83fad-50f4-4a1f-d573-ed27f94d1885"
   },
   "outputs": [
    {
     "name": "stdout",
     "output_type": "stream",
     "text": [
      "\u001b[1m1/1\u001b[0m \u001b[32m━━━━━━━━━━━━━━━━━━━━\u001b[0m\u001b[37m\u001b[0m \u001b[1m17s\u001b[0m 17s/step\n",
      "Detection Result: invalid (Confidence: 1.00)\n"
     ]
    }
   ],
   "source": [
    "# Load detection model\n",
    "detect_model = load_model(\"detect.weights.keras\")\n",
    "\n",
    "# Classes for detection\n",
    "detect_classes = ['invalid', 'valid']\n",
    "image_size = (224, 224)\n",
    "\n",
    "# Path to input image\n",
    "img_path = \"/content/download.jpeg\"  # Replace with your image\n",
    "\n",
    "# Function to predict valid/invalid\n",
    "def is_valid_image(img_path):\n",
    "    if not os.path.exists(img_path):\n",
    "        print(\"Image not found.\")\n",
    "        return False\n",
    "\n",
    "    img = image.load_img(img_path, target_size=image_size)\n",
    "    img_array = image.img_to_array(img)\n",
    "    img_array = np.expand_dims(img_array, axis=0)\n",
    "    img_array /= 255.0\n",
    "\n",
    "    prediction = detect_model.predict(img_array)\n",
    "    if prediction.shape[-1] == 1:\n",
    "        confidence = float(prediction[0][0])\n",
    "        predicted_class = detect_classes[1] if confidence > 0.5 else detect_classes[0]\n",
    "        confidence = confidence if predicted_class == 'valid' else 1 - confidence\n",
    "    else:\n",
    "        predicted_class = detect_classes[np.argmax(prediction)]\n",
    "        confidence = np.max(prediction)\n",
    "\n",
    "    plt.imshow(img)\n",
    "    plt.axis('off')\n",
    "    plt.title(f\"Detection: {predicted_class} ({confidence:.2f})\")\n",
    "    plt.show()\n",
    "\n",
    "    print(f\"Detection Result: {predicted_class} (Confidence: {confidence:.2f})\")\n",
    "    return predicted_class == 'valid'\n",
    "\n",
    "# Run detection\n",
    "proceed_to_classification = is_valid_image(img_path)\n"
   ]
  },
  {
   "cell_type": "code",
   "execution_count": null,
   "metadata": {
    "colab": {
     "base_uri": "https://localhost:8080/"
    },
    "executionInfo": {
     "elapsed": 76,
     "status": "ok",
     "timestamp": 1749977832444,
     "user": {
      "displayName": "Sibt e Hassan",
      "userId": "02293422097421632325"
     },
     "user_tz": -300
    },
    "id": "NPN7sgvolxLR",
    "outputId": "144c6739-02df-422f-c465-013cda0e0913"
   },
   "outputs": [
    {
     "name": "stdout",
     "output_type": "stream",
     "text": [
      "Image is invalid. Skipping classification and segmentation.\n"
     ]
    }
   ],
   "source": [
    "# === CLASSIFICATION STAGE ===\n",
    "if proceed_to_classification:\n",
    "    from tensorflow.keras.preprocessing import image\n",
    "    import matplotlib.pyplot as plt\n",
    "    import numpy as np\n",
    "    from tensorflow.keras.models import load_model\n",
    "    import os\n",
    "\n",
    "    # Load classification model\n",
    "    classification_model = load_model(\"classification.weights.keras\")\n",
    "    class_names = ['glioma', 'meningioma', 'notumor', 'pituitary']\n",
    "    image_size = (224, 224)\n",
    "\n",
    "    def classify_tumor(img_path):\n",
    "        if not os.path.exists(img_path):\n",
    "            print(\"Image not found.\")\n",
    "            return False\n",
    "\n",
    "        # Load image as PIL (for display) and preprocess copy for model\n",
    "        img = image.load_img(img_path, target_size=image_size)\n",
    "        img_array = image.img_to_array(img)\n",
    "        img_array = np.expand_dims(img_array, axis=0)\n",
    "        img_array = img_array / 255.0\n",
    "\n",
    "        # Predict\n",
    "        prediction = classification_model.predict(img_array)\n",
    "        predicted_class = class_names[np.argmax(prediction)]\n",
    "        confidence = np.max(prediction)\n",
    "\n",
    "        # ✅ Show the image (this works correctly in Colab)\n",
    "        plt.imshow(img)\n",
    "        plt.axis('off')\n",
    "        plt.title(f\"Classified: {predicted_class} ({confidence:.2f})\")\n",
    "        plt.show()\n",
    "\n",
    "        print(f\"Tumor Type: {predicted_class} (Confidence: {confidence:.2f})\")\n",
    "\n",
    "        return predicted_class != 'notumor'\n",
    "\n",
    "    proceed_to_segmentation = classify_tumor(img_path)\n",
    "else:\n",
    "    proceed_to_segmentation = False\n",
    "    print(\"Image is invalid. Skipping classification and segmentation.\")\n"
   ]
  },
  {
   "cell_type": "code",
   "execution_count": null,
   "metadata": {
    "colab": {
     "base_uri": "https://localhost:8080/"
    },
    "executionInfo": {
     "elapsed": 16,
     "status": "ok",
     "timestamp": 1749977832461,
     "user": {
      "displayName": "Sibt e Hassan",
      "userId": "02293422097421632325"
     },
     "user_tz": -300
    },
    "id": "Stxz1wwAswxK",
    "outputId": "020beaec-847c-45bd-c088-e043fc2ff1c1"
   },
   "outputs": [
    {
     "name": "stdout",
     "output_type": "stream",
     "text": [
      "No tumor detected. Segmentation skipped.\n"
     ]
    }
   ],
   "source": [
    "# === SEGMENTATION STAGE ===\n",
    "if proceed_to_segmentation:\n",
    "    import torch\n",
    "    from PIL import Image\n",
    "\n",
    "    # Load YOLOv5 segmentation model\n",
    "    seg_model = torch.hub.load('ultralytics/yolov5', 'custom', path='segmentation.pt', force_reload=True)\n",
    "\n",
    "    # Run inference\n",
    "    results = seg_model(img_path)\n",
    "\n",
    "    # Print and show results\n",
    "    results.print()\n",
    "    results.show()\n",
    "else:\n",
    "    print(\"No tumor detected. Segmentation skipped.\")\n"
   ]
  }
 ],
 "metadata": {
  "accelerator": "GPU",
  "colab": {
   "gpuType": "T4",
   "provenance": []
  },
  "kernelspec": {
   "display_name": "Python 3",
   "name": "python3"
  },
  "language_info": {
   "name": "python"
  }
 },
 "nbformat": 4,
 "nbformat_minor": 0
}
